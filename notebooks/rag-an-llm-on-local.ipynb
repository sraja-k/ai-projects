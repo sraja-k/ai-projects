{
 "cells": [
  {
   "cell_type": "code",
   "execution_count": 2,
   "id": "fb50b413-351e-4b99-8f7b-511334da4867",
   "metadata": {},
   "outputs": [],
   "source": [
    "from datasets import load_dataset\n",
    "from haystack import Document\n",
    "\n",
    "# Load the csv as dataset\n",
    "dataset = load_dataset(\"csv\", \n",
    "            data_files=\"/Users/raksja/Downloads/news_data_dedup.csv\", \n",
    "            split=\"train\")\n",
    "\n",
    "# Create document for each row of the csv with data and metadata\n",
    "documents = [\n",
    "        Document(\n",
    "            content=doc[\"description\"], \n",
    "            meta={\n",
    "                \"published_date\": doc[\"published_at\"],\n",
    "                \"url\": doc[\"url\"]\n",
    "            }) for doc in dataset\n",
    "]"
   ]
  },
  {
   "cell_type": "code",
   "execution_count": 3,
   "id": "934c3b3c-b3da-460d-a54d-603e2fba72a8",
   "metadata": {},
   "outputs": [
    {
     "name": "stderr",
     "output_type": "stream",
     "text": [
      "\n",
      "alculating embeddings: 100%|█| 28/28 [00:13<00:00,  "
     ]
    }
   ],
   "source": [
    "from haystack_integrations.components.embedders.ollama.document_embedder import OllamaDocumentEmbedder\n",
    "\n",
    "# Generate vector embeddings for all the documents \n",
    "document_embedder = OllamaDocumentEmbedder(model=\"nomic-embed-text\",\n",
    "                                           url=\"http://localhost:11434\")\n",
    "documents_with_embeddings = document_embedder.run(documents)[\"documents\"]"
   ]
  },
  {
   "cell_type": "code",
   "execution_count": 4,
   "id": "1fbbb895-0e4b-45a2-af8e-fdd0b780aef8",
   "metadata": {},
   "outputs": [
    {
     "data": {
      "text/plain": [
       "870"
      ]
     },
     "execution_count": 4,
     "metadata": {},
     "output_type": "execute_result"
    }
   ],
   "source": [
    "from haystack.document_stores.in_memory import InMemoryDocumentStore\n",
    "from haystack.document_stores.types import DuplicatePolicy\n",
    "\n",
    "# Write generated vector embeddings in inmemory doc store\n",
    "document_store = InMemoryDocumentStore(embedding_similarity_function=\"cosine\")\n",
    "document_store.write_documents(documents_with_embeddings, \n",
    "                               policy=DuplicatePolicy.OVERWRITE)"
   ]
  },
  {
   "cell_type": "code",
   "execution_count": 5,
   "id": "01d14b3b-2019-40c9-881c-7efe3eca7bc6",
   "metadata": {},
   "outputs": [],
   "source": [
    "from haystack import Pipeline\n",
    "from haystack_integrations.components.embedders.ollama.text_embedder import OllamaTextEmbedder\n",
    "from haystack.components.retrievers.in_memory import InMemoryEmbeddingRetriever\n",
    "\n",
    "# Initialize embedder and in memory retriever with top_k as 5\n",
    "embedder = OllamaTextEmbedder(model=\"nomic-embed-text\",\n",
    "                              url=\"http://localhost:11434\")\n",
    "retriever = InMemoryEmbeddingRetriever(document_store=document_store,\n",
    "                                       top_k=5)\n",
    "\n",
    "# Simple query pipeline to connect embedder and retriever\n",
    "query_pipeline = Pipeline()\n",
    "query_pipeline.add_component(\"text_embedder\", embedder)\n",
    "query_pipeline.add_component(\"retriever\", retriever)\n",
    "query_pipeline.connect(\"text_embedder.embedding\", \"retriever.query_embedding\")\n",
    "\n",
    "# Run pipeline to get top 5 relavant documents stored\n",
    "query = \"Election debate between Biden and Trump\"\n",
    "retrieved_docs = query_pipeline.run({\"text_embedder\": {\"text\": query}})"
   ]
  },
  {
   "cell_type": "code",
   "execution_count": 6,
   "id": "1e7a6645-16eb-42ab-960f-a2356b2d7d27",
   "metadata": {},
   "outputs": [
    {
     "name": "stdout",
     "output_type": "stream",
     "text": [
      "Document(id=533774e3ce14fcbc58155f677ece91de2d3cee520ed3f83ee650ebad9103025b, content: 'Trump claims the President isn’t up to the job. If Biden shuns debates, voters might conclude Trump ...', meta: {'published_date': '2024-04-26 21:39:00+00', 'url': 'https://www.wsj.com/articles/joe-biden-donald-trump-debate-2024-election-aeee86fb'}, score: 0.7608799738520099)\n"
     ]
    }
   ],
   "source": [
    "print(retrieved_docs[\"retriever\"][\"documents\"][0])"
   ]
  },
  {
   "cell_type": "code",
   "execution_count": 7,
   "id": "6e0a3bd9-cbfa-4e4c-90a2-e55270c11b78",
   "metadata": {},
   "outputs": [],
   "source": [
    "template = \"\"\"\n",
    "Using the recent news context information provided below, \n",
    "summarize the context and answer the question.\n",
    "\n",
    "Context: \n",
    "{% for document in documents %}\n",
    "- Content: {{ document.content }}\n",
    "  URL: {{ document.meta.url }}\n",
    "  Published Date: {{ document.meta.published_date }}\n",
    "{% endfor %}\n",
    "\n",
    "Question: {{ question }}\n",
    "\n",
    "Answer: Provide a summary based on the context above. \n",
    "Include references to the URLs and their exact published dates at the end of the response.\n",
    "\"\"\""
   ]
  },
  {
   "cell_type": "code",
   "execution_count": 14,
   "id": "71c72561-61ef-4d68-a4d3-4824ddd9f021",
   "metadata": {},
   "outputs": [],
   "source": [
    "from haystack import Pipeline\n",
    "from haystack_integrations.components.embedders.ollama.text_embedder import OllamaTextEmbedder\n",
    "from haystack.components.retrievers.in_memory import InMemoryEmbeddingRetriever\n",
    "from haystack.components.builders.prompt_builder import PromptBuilder\n",
    "from haystack_integrations.components.generators.ollama import OllamaGenerator\n",
    "\n",
    "# Initialize embedder and in memory retriever with top_k as 3\n",
    "embedder = OllamaTextEmbedder(model=\"nomic-embed-text\",\n",
    "                              url=\"http://localhost:11434\")\n",
    "retriever = InMemoryEmbeddingRetriever(document_store=document_store, \n",
    "                                       top_k=3)\n",
    "\n",
    "# Initialize prompt builder with template and llm generator connecting to local llm\n",
    "prompt_builder = PromptBuilder(template=template)\n",
    "generator = OllamaGenerator(\n",
    "    model=\"llama3.2\", \n",
    "    url=\"http://localhost:11434/\",\n",
    "    generation_kwargs={\n",
    "        \"num_predict\": 500,\n",
    "        \"temperature\": 0.9\n",
    "    }\n",
    ")\n",
    "\n",
    "# Simple query pipeline to connect embedder and retriever\n",
    "rag_pipeline = Pipeline()\n",
    "rag_pipeline.add_component(\"text_embedder\", embedder)\n",
    "rag_pipeline.add_component(\"retriever\", retriever)\n",
    "rag_pipeline.add_component(\"prompt_builder\", prompt_builder)\n",
    "rag_pipeline.add_component(\"llm\", generator)\n",
    "rag_pipeline.connect(\"text_embedder.embedding\", \"retriever.query_embedding\")\n",
    "rag_pipeline.connect(\"retriever.documents\", \"prompt_builder.documents\")\n",
    "rag_pipeline.connect(\"prompt_builder.prompt\", \"llm.prompt\")\n",
    "\n",
    "question = \"Any news about election debate between Biden and Trump\"\n",
    "response = rag_pipeline.run({\n",
    "    \"text_embedder\": {\"text\": question},\n",
    "    \"prompt_builder\": {\"question\": question}\n",
    "})"
   ]
  },
  {
   "cell_type": "code",
   "execution_count": 15,
   "id": "77bb8974-e028-4e63-a4cb-9ba6adaca9b7",
   "metadata": {},
   "outputs": [
    {
     "name": "stdout",
     "output_type": "stream",
     "text": [
      "Based on the provided context, it appears that there is ongoing speculation and discussion about whether Joe Biden will participate in an upcoming election debate with Donald Trump.\n",
      "\n",
      "According to reports from The Wall Street Journal (https://www.wsj.com/articles/joe-biden-donald-trump-debate-2024-election-aeee86fb published April 26, 2024) and The New York Times (https://www.nytimes.com/2024/04/26/us/politics/biden-debate-trump.html published April 26, 2024), Biden has declined to say whether he will participate in a debate with Trump, citing the president's busy campaign schedule.\n",
      "\n",
      "However, if Biden were to shun the debate, it could potentially benefit Trump, according to one article from The Times of India (https://timesofindia.indiatimes.com/world/us/joe-biden-goes-on-campaign-spree-as-donald-trump-faces-court-disruptions/articleshow/109640744.cms published April 27, 2024). This suggests that the debate is seen as a significant opportunity for Trump to gain an advantage over Biden in terms of exposure and public perception.\n",
      "\n",
      "It's worth noting that Biden has been actively campaigning and defending his policies, including abortion rights, investments in semiconductors, and values discussions (https://timesofindia.indiatimes.com/world/us/joe-biden-goes-on-campaign-spree-as-donald-trump-faces-court-disruptions/articleshow/109640744.cms published April 27, 2024).\n",
      "\n",
      "In summary, there is ongoing speculation about whether Biden will participate in a debate with Trump, and if he does not, it could potentially benefit Trump's campaign.\n",
      "\n",
      "References:\n",
      "\n",
      "* https://www.wsj.com/articles/joe-biden-donald-trump-debate-2024-election-aeee86fb published April 26, 2024\n",
      "* https://www.nytimes.com/2024/04/26/us/politics/biden-debate-trump.html published April 26, 2024\n",
      "* https://timesofindia.indiatimes.com/world/us/joe-biden-goes-on-campaign-spree-as-donald-trump-faces-court-disruptions/articleshow/109640744.cms published April 27, 2024\n"
     ]
    }
   ],
   "source": [
    "print(response[\"llm\"][\"replies\"][0])"
   ]
  }
 ],
 "metadata": {
  "kernelspec": {
   "display_name": "python12-notebook-venv",
   "language": "python",
   "name": "python12-notebook-venv"
  },
  "language_info": {
   "codemirror_mode": {
    "name": "ipython",
    "version": 3
   },
   "file_extension": ".py",
   "mimetype": "text/x-python",
   "name": "python",
   "nbconvert_exporter": "python",
   "pygments_lexer": "ipython3",
   "version": "3.12.8"
  }
 },
 "nbformat": 4,
 "nbformat_minor": 5
}
